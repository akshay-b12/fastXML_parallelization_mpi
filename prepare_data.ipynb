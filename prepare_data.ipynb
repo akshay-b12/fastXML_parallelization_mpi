{
 "cells": [
  {
   "cell_type": "code",
   "execution_count": 4,
   "metadata": {},
   "outputs": [],
   "source": [
    "from xclib.data import data_utils\n",
    "\n",
    "# Read file with features and labels\n",
    "features, labels, num_samples, num_features, num_labels = data_utils.read_data('./dataset/Eurlex/eurlex_train.txt')\n",
    "\n",
    "data_utils.write_sparse_file(labels, \"./dataset/Eurlex/train_labels.txt\")\n",
    "data_utils.write_sparse_file(features, \"./dataset/Eurlex/train_data.txt\")"
   ]
  },
  {
   "cell_type": "code",
   "execution_count": null,
   "metadata": {},
   "outputs": [],
   "source": []
  }
 ],
 "metadata": {
  "kernelspec": {
   "display_name": "Python 3",
   "language": "python",
   "name": "python3"
  },
  "language_info": {
   "codemirror_mode": {
    "name": "ipython",
    "version": 3
   },
   "file_extension": ".py",
   "mimetype": "text/x-python",
   "name": "python",
   "nbconvert_exporter": "python",
   "pygments_lexer": "ipython3",
   "version": "3.6.9"
  }
 },
 "nbformat": 4,
 "nbformat_minor": 2
}
